{
 "cells": [
  {
   "cell_type": "code",
   "execution_count": 29,
   "metadata": {},
   "outputs": [],
   "source": [
    "from kan import *\n",
    "from torch.utils.data import DataLoader\n",
    "from Modules import BaseDatasetPalm"
   ]
  },
  {
   "cell_type": "code",
   "execution_count": 30,
   "metadata": {},
   "outputs": [
    {
     "name": "stdout",
     "output_type": "stream",
     "text": [
      "cuda\n"
     ]
    }
   ],
   "source": [
    "torch.set_default_dtype(torch.float32)\n",
    "\n",
    "device = torch.device('cuda' if torch.cuda.is_available() else 'cpu')\n",
    "print(device)"
   ]
  },
  {
   "cell_type": "code",
   "execution_count": 31,
   "metadata": {},
   "outputs": [
    {
     "name": "stdout",
     "output_type": "stream",
     "text": [
      "Retrieving data from /home/u108-n256/PalmProject/NeuralNetwork_Testing/NN_Inputs/SMSE\n",
      "Retrieving data from /home/u108-n256/PalmProject/NeuralNetwork_Testing/NN_Inputs/PR\n",
      "Retrieving data from /home/u108-n256/PalmProject/NeuralNetwork_Testing/NN_Inputs/SMSE\n",
      "Retrieving data from /home/u108-n256/PalmProject/NeuralNetwork_Testing/NN_Inputs/PR\n"
     ]
    }
   ],
   "source": [
    "dataset = BaseDatasetPalm('male',['SMSE','PR'])\n",
    "dataset_f = BaseDatasetPalm('female',['SMSE','PR'])"
   ]
  },
  {
   "cell_type": "code",
   "execution_count": 32,
   "metadata": {},
   "outputs": [
    {
     "name": "stdout",
     "output_type": "stream",
     "text": [
      "torch.Size([55818, 800, 1])\n",
      "torch.Size([55818, 800, 1])\n",
      "torch.Size([44654400, 1])\n",
      "torch.Size([44654400, 2]) torch.Size([44654400, 3])\n"
     ]
    }
   ],
   "source": [
    "X1 = torch.from_numpy(dataset.X[:,:,15::9].reshape(dataset.X.shape[0], -1,1)) #get the average relative humidity data\n",
    "#X2 = torch.from_numpy(dataset.X[:,:,12::9].reshape(dataset.X.shape[0], -1,1)) #get the temperature data\n",
    "#print(X1.shape, X2.shape)\n",
    "#X = torch.cat((X1, X2), dim=2).reshape(-1,2) #concatenate the data\n",
    "print(X1.shape)\n",
    "time = torch.from_numpy(np.linspace(0, 1, X1.shape[1])).reshape(1, 800, 1).broadcast_to(X1.shape[0],800,1) #create a time tensor \n",
    "print(time.shape)\n",
    "X = torch.cat((X1, time), dim=2).reshape(-1,2) #concatenate the data and time tensor\n",
    "\n",
    "y1 = torch.from_numpy(np.where(dataset.y == 0, 0, 1)).reshape(dataset.X.shape[0],1,1).broadcast_to(dataset.X.shape[0],800,1).reshape(-1,1) #get the labels\n",
    "y2 = torch.from_numpy(np.where(dataset_f.y == 0, 0, 1)).reshape(dataset.X.shape[0],1,1).broadcast_to(dataset.X.shape[0],800,1).reshape(-1,1) #get the labels\n",
    "y3 = torch.where(y1 + y2 == 0, 1, 0) #get the labels\n",
    "print(y3.shape)\n",
    "\n",
    "y = torch.cat((y1, y2, y3), dim=1) #concatenate the labels\n",
    "\n",
    "print(X.shape, y.shape)"
   ]
  },
  {
   "cell_type": "code",
   "execution_count": 33,
   "metadata": {},
   "outputs": [],
   "source": [
    "\n",
    "\n",
    "X_train = X[:int(0.8*len(X))]\n",
    "X_test = X[int(0.8*len(X)):]\n",
    "y_train = y[:int(0.8*len(y))]\n",
    "y_test = y[int(0.8*len(y)):]\n",
    "\n",
    "#training_dl = DataLoader(list(zip(X_train, y_train)), batch_size=32, shuffle=True)\n",
    "#test_dl = DataLoader(list(zip(X_test, y_test)), batch_size=32, shuffle=False)\n",
    "\n",
    "dataset = {'train_input':X_train.to(device=device, dtype=torch.float32), \n",
    "           'test_input':X_test.to(device=device, dtype=torch.float32), \n",
    "           'train_label':y_train.to(device=device, dtype=torch.float32), \n",
    "           'test_label':y_test.to(device=device, dtype=torch.float32)}"
   ]
  },
  {
   "cell_type": "markdown",
   "metadata": {},
   "source": [
    "As long as nothing is pruned everything works fine. But NaN occurs when the pruning thresholds are increased or the model is scaled up (some functions less important) in both cases pruning is triggered."
   ]
  },
  {
   "cell_type": "code",
   "execution_count": 34,
   "metadata": {},
   "outputs": [],
   "source": [
    "architecture = [2, 5, 3]\n",
    "grid = 15\n",
    "\n",
    "train_rmse = []\n",
    "test_rmse = []"
   ]
  },
  {
   "cell_type": "code",
   "execution_count": 35,
   "metadata": {},
   "outputs": [],
   "source": [
    "\n",
    "def inf(model, node_threshold=1e-2, edge_threshold=3e-2):\n",
    "    print(f'\\nNumber of active functions: {model.n_edge}\\n')\n",
    "\n",
    "    #model.attribute()\n",
    "    \n",
    "    edge_scores_layers =  len(model.edge_scores) if model.edge_scores is not None else None\n",
    "    node_scores_layers = len(model.node_scores) if model.node_scores is not None else None\n",
    "\n",
    "    #print(f'Edge Scores Layers: {model.edge_scores}')\n",
    "    try:\n",
    "        n_edges = [edge_scores.shape for edge_scores in model.edge_scores if edge_scores is not None]\n",
    "    except TypeError:\n",
    "        n_edges = None\n",
    "    try:\n",
    "        n_nodes = [node_scores.shape for node_scores in model.node_scores if node_scores is not None ]\n",
    "    except TypeError:\n",
    "        n_nodes = None\n",
    "    \n",
    "    act_edges = []\n",
    "    act_nodes = []\n",
    "    for edges, nodes in zip(model.edge_scores, model.node_scores):\n",
    "        if edges is not None:\n",
    "            act_edges.append(edges[edges > edge_threshold].shape[0])\n",
    "        if nodes is not None:\n",
    "            act_nodes.append(nodes[nodes > node_threshold].shape[0])\n",
    "    \n",
    "    masks =  [act_f.mask for act_f in model.act_fun]\n",
    "    relative_masks = [(torch.sum(mask == 1)/mask.numel()).cpu().numpy() for mask in masks]\n",
    "\n",
    "\n",
    "    print(f'\\nEdge Scores Layers: {edge_scores_layers} with shapes: {n_edges} and {len(act_edges)} active edges\\n')\n",
    "    print(f'\\nNode Scores Layers: {node_scores_layers} with shapes: {n_nodes} and {len(act_nodes)} active nodes\\n')\n",
    "    print(f'\\nActive proportion of the Masks: {relative_masks}\\n')\n",
    "    print(f'\\nGrid Size : {model.grid}')\n",
    "\n",
    "\n",
    "\n",
    "\n"
   ]
  },
  {
   "cell_type": "code",
   "execution_count": 36,
   "metadata": {},
   "outputs": [],
   "source": [
    "def prune(self, node_th=1e-2, edge_th=3e-2, obs=True):\n",
    "    #get activation functions\n",
    "    if self.acts == None:\n",
    "        self.get_act()\n",
    "\n",
    "    if obs:\n",
    "        print('Before edge pruning')\n",
    "        inf(self)\n",
    "\n",
    "    self.attribute()\n",
    "    self.prune_edge(edge_th, log_history=False)\n",
    "\n",
    "    if obs:\n",
    "        print('After edge pruning')\n",
    "        inf(self)\n",
    "    \n",
    "    self.forward(self.cache_data)\n",
    "    self = self.prune_node(node_th, log_history=False)\n",
    "\n",
    "    if obs:\n",
    "        print('After node pruning')\n",
    "        inf(self)\n",
    "    self.log_history('prune')\n",
    "    return self"
   ]
  },
  {
   "cell_type": "code",
   "execution_count": 37,
   "metadata": {},
   "outputs": [],
   "source": [
    "# import torch\n",
    "\n",
    "# with open('/home/u108-n256/PalmProject/NeuralNetwork_Testing/model/0.0_state', 'rb') as f:\n",
    "#     model = pickle.load(f)\n",
    "\n",
    "# model = torch.load('/home/u108-n256/PalmProject/NeuralNetwork_Testing/model/0.0_state')"
   ]
  },
  {
   "cell_type": "code",
   "execution_count": 38,
   "metadata": {},
   "outputs": [
    {
     "name": "stdout",
     "output_type": "stream",
     "text": [
      "checkpoint directory created: ./model\n",
      "saving model version 0.0\n"
     ]
    },
    {
     "name": "stderr",
     "output_type": "stream",
     "text": [
      "description:   0%|                                                           | 0/20 [00:00<?, ?it/s]"
     ]
    },
    {
     "name": "stderr",
     "output_type": "stream",
     "text": [
      "| train_loss: 1.08e+00 | test_loss: 1.10e+00 | reg: 8.00e+00 | : 100%|█| 20/20 [00:41<00:00,  2.06s/\n"
     ]
    },
    {
     "name": "stdout",
     "output_type": "stream",
     "text": [
      "saving model version 0.1\n",
      "saving model version 0.2\n",
      "Epoch: 0\n",
      "Active edges: 25\n",
      "LR:1e-05\n",
      "\n"
     ]
    },
    {
     "name": "stderr",
     "output_type": "stream",
     "text": [
      "| train_loss: 1.08e+00 | test_loss: 1.10e+00 | reg: 8.12e+00 | : 100%|█| 20/20 [00:39<00:00,  1.96s/\n"
     ]
    },
    {
     "name": "stdout",
     "output_type": "stream",
     "text": [
      "saving model version 0.3\n",
      "saving model version 0.4\n",
      "Epoch: 1\n",
      "Active edges: 24\n",
      "LR:1e-05\n",
      "\n"
     ]
    },
    {
     "name": "stderr",
     "output_type": "stream",
     "text": [
      "| train_loss: 1.08e+00 | test_loss: 1.10e+00 | reg: 8.17e+00 | : 100%|█| 20/20 [00:38<00:00,  1.93s/\n"
     ]
    },
    {
     "name": "stdout",
     "output_type": "stream",
     "text": [
      "saving model version 0.5\n",
      "saving model version 0.6\n",
      "Epoch: 2\n",
      "Active edges: 24\n",
      "LR:1e-05\n",
      "\n"
     ]
    },
    {
     "name": "stderr",
     "output_type": "stream",
     "text": [
      "| train_loss: 1.08e+00 | test_loss: 1.10e+00 | reg: 8.84e+00 | : 100%|█| 20/20 [00:38<00:00,  1.93s/\n"
     ]
    },
    {
     "name": "stdout",
     "output_type": "stream",
     "text": [
      "saving model version 0.7\n",
      "saving model version 0.8\n",
      "Epoch: 3\n",
      "Active edges: 23\n",
      "LR:1e-05\n",
      "\n"
     ]
    },
    {
     "name": "stderr",
     "output_type": "stream",
     "text": [
      "| train_loss: 1.08e+00 | test_loss: 1.10e+00 | reg: 9.35e+00 | : 100%|█| 20/20 [00:39<00:00,  1.96s/"
     ]
    },
    {
     "name": "stdout",
     "output_type": "stream",
     "text": [
      "saving model version 0.9\n",
      "saving model version 0.10\n",
      "Epoch: 4\n",
      "Active edges: 23\n",
      "LR:1e-05\n",
      "\n"
     ]
    },
    {
     "name": "stderr",
     "output_type": "stream",
     "text": [
      "\n"
     ]
    }
   ],
   "source": [
    "#somehow the model.attribute() needs ti be called before pruning?????\n",
    "\n",
    "model = MultKAN(width=architecture, grid=grid, k=3, seed=1, device=device)\n",
    "test_loss = torch.inf\n",
    "active_edges = torch.inf\n",
    "lr=1e-5\n",
    "\n",
    "df = {'Active Edges':[], 'Train Loss':[], 'Test Loss':[], 'Regularization':[]}\n",
    "df_symb = {'Active Edges':[], 'Train Loss':[], 'Test Loss':[], 'Regularization':[]}\n",
    "\n",
    "for i in range(5):\n",
    "    results = model.fit(dataset, steps=20, batch=32, lr=lr, loss_fn=torch.nn.CrossEntropyLoss(), lamb=0.01)\n",
    "    model = prune(model, obs=False)\n",
    "    if test_loss < np.mean(results['test_loss']):\n",
    "        test_loss = np.mean(results['test_loss'])\n",
    "    # elif test_loss > np.mean(df['Test Loss'][-5:]) and i > 5:\n",
    "    #     if lr > 1e-7:\n",
    "    #         lr = lr/10\n",
    "\n",
    "    df['Active Edges'].append(model.n_edge)\n",
    "    df['Train Loss'].append(np.mean(results['train_loss']))\n",
    "    df['Test Loss'].append(np.mean(results['test_loss']))\n",
    "    df['Regularization'].append(np.mean(results['reg']))\n",
    "\n",
    "    print(f'Epoch: {i}\\nActive edges: {model.n_edge}\\nLR:{lr}\\n')        "
   ]
  },
  {
   "cell_type": "code",
   "execution_count": 45,
   "metadata": {},
   "outputs": [
    {
     "data": {
      "image/png": "[encoded data removed]",
      "text/plain": [
       "<Figure size 500x400 with 34 Axes>"
      ]
     },
     "metadata": {},
     "output_type": "display_data"
    }
   ],
   "source": [
    "model.plot(beta=0.5)"
   ]
  },
  {
   "cell_type": "code",
   "execution_count": 40,
   "metadata": {},
   "outputs": [
    {
     "name": "stdout",
     "output_type": "stream",
     "text": [
      "fixing (0,0,0) with 0, r2=0.0, c=0\n",
      "fixing (0,0,1) with 1/x^2, r2=0.9979313015937805, c=2\n",
      "fixing (0,0,2) with 0, r2=0.0, c=0\n",
      "fixing (0,0,3) with 0, r2=0.0, c=0\n",
      "fixing (0,0,4) with 0\n",
      "fixing (0,1,0) with 0, r2=0.0, c=0\n",
      "fixing (0,1,1) with x, r2=0.9841940402984619, c=1\n",
      "fixing (0,1,2) with x, r2=0.9683363437652588, c=1\n",
      "fixing (0,1,3) with x, r2=0.9938626289367676, c=1\n",
      "fixing (0,1,4) with x, r2=0.9923510551452637, c=1\n",
      "fixing (1,0,0) with 0, r2=0.0, c=0\n",
      "fixing (1,0,1) with 0, r2=0.0, c=0\n",
      "fixing (1,0,2) with 0, r2=0.0, c=0\n",
      "fixing (1,1,0) with 1/x^2, r2=0.997524619102478, c=2\n",
      "fixing (1,1,1) with 0, r2=0.0, c=0\n",
      "fixing (1,1,2) with 0, r2=0.0, c=0\n",
      "fixing (1,2,0) with 0, r2=0.0, c=0\n",
      "fixing (1,2,1) with 0, r2=0.0, c=0\n",
      "fixing (1,2,2) with 0, r2=0.0, c=0\n",
      "fixing (1,3,0) with 0, r2=0.0, c=0\n",
      "fixing (1,3,1) with 0, r2=0.0, c=0\n",
      "fixing (1,3,2) with 0, r2=0.0, c=0\n",
      "fixing (1,4,0) with 0\n",
      "fixing (1,4,1) with 0, r2=0.0, c=0\n",
      "fixing (1,4,2) with 0, r2=0.0, c=0\n",
      "saving model version 0.11\n"
     ]
    },
    {
     "data": {
      "image/png": "[encoded data removed]",
      "text/plain": [
       "<Figure size 500x400 with 34 Axes>"
      ]
     },
     "metadata": {},
     "output_type": "display_data"
    }
   ],
   "source": [
    "lib = ['x','x^2','x^3','x^4','exp','log','sqrt','tanh','sin','abs']\n",
    "model1 = model\n",
    "model1.auto_symbolic()\n",
    "model1.plot()"
   ]
  },
  {
   "cell_type": "code",
   "execution_count": 41,
   "metadata": {},
   "outputs": [
    {
     "data": {
      "text/latex": [
       "$\\displaystyle -0.047676885034889 + \\frac{0.00304878963925133}{\\left(0.105151263289206 x_{2} - 1 + \\frac{0.0168095100346607}{\\left(0.283435513476539 - x_{1}\\right)^{2}}\\right)^{2}}$"
      ],
      "text/plain": [
       "-0.047676885034889 + 0.00304878963925133/(0.105151263289206*x_2 - 1 + 0.0168095100346607/(0.283435513476539 - x_1)**2)**2"
      ]
     },
     "execution_count": 41,
     "metadata": {},
     "output_type": "execute_result"
    }
   ],
   "source": [
    "model1.symbolic_formula()[0][0]\n"
   ]
  },
  {
   "cell_type": "code",
   "execution_count": 42,
   "metadata": {},
   "outputs": [
    {
     "data": {
      "text/latex": [
       "$\\displaystyle 0.0339957871474326$"
      ],
      "text/plain": [
       "0.0339957871474326"
      ]
     },
     "execution_count": 42,
     "metadata": {},
     "output_type": "execute_result"
    }
   ],
   "source": [
    "model1.symbolic_formula()[0][1]\n"
   ]
  },
  {
   "cell_type": "code",
   "execution_count": 44,
   "metadata": {},
   "outputs": [
    {
     "data": {
      "text/latex": [
       "$\\displaystyle -0.052158844191581$"
      ],
      "text/plain": [
       "-0.0521588441915810"
      ]
     },
     "execution_count": 44,
     "metadata": {},
     "output_type": "execute_result"
    }
   ],
   "source": [
    "model1.symbolic_formula()[0][2]\n"
   ]
  },
  {
   "cell_type": "code",
   "execution_count": 47,
   "metadata": {},
   "outputs": [
    {
     "name": "stdout",
     "output_type": "stream",
     "text": [
      "saving model version 0.12\n"
     ]
    },
    {
     "data": {
      "image/png": "[encoded data removed]",
      "text/plain": [
       "<Figure size 500x400 with 34 Axes>"
      ]
     },
     "metadata": {},
     "output_type": "display_data"
    }
   ],
   "source": [
    "model2 = model.prune(1e-2, 3e-2)\n",
    "model2.plot(in_vars=['RH (%)','time (d)'])"
   ]
  }
 ],
 "metadata": {
  "kernelspec": {
   "display_name": "base",
   "language": "python",
   "name": "python3"
  },
  "language_info": {
   "codemirror_mode": {
    "name": "ipython",
    "version": 3
   },
   "file_extension": ".py",
   "mimetype": "text/x-python",
   "name": "python",
   "nbconvert_exporter": "python",
   "pygments_lexer": "ipython3",
   "version": "3.12.2"
  }
 },
 "nbformat": 4,
 "nbformat_minor": 2
}
