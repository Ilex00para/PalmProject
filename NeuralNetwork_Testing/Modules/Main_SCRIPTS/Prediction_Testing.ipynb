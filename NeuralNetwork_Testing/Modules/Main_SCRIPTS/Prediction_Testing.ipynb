{
 "cells": [
  {
   "cell_type": "code",
   "execution_count": 8,
   "metadata": {},
   "outputs": [
    {
     "ename": "ModuleNotFoundError",
     "evalue": "No module named 'Modules'",
     "output_type": "error",
     "traceback": [
      "\u001b[0;31m---------------------------------------------------------------------------\u001b[0m",
      "\u001b[0;31mModuleNotFoundError\u001b[0m                       Traceback (most recent call last)",
      "Cell \u001b[0;32mIn[8], line 1\u001b[0m\n\u001b[0;32m----> 1\u001b[0m \u001b[38;5;28;01mfrom\u001b[39;00m \u001b[38;5;21;01mModules\u001b[39;00m\u001b[38;5;21;01m.\u001b[39;00m\u001b[38;5;21;01mArchitectures\u001b[39;00m \u001b[38;5;28;01mimport\u001b[39;00m CNN_MNV2\n\u001b[1;32m      2\u001b[0m \u001b[38;5;28;01mfrom\u001b[39;00m \u001b[38;5;21;01mModules\u001b[39;00m\u001b[38;5;21;01m.\u001b[39;00m\u001b[38;5;21;01mDatasets\u001b[39;00m \u001b[38;5;28;01mimport\u001b[39;00m BaseDatasetPalm\n\u001b[1;32m      3\u001b[0m \u001b[38;5;28;01mfrom\u001b[39;00m \u001b[38;5;21;01mModules\u001b[39;00m\u001b[38;5;21;01m.\u001b[39;00m\u001b[38;5;21;01mUtils\u001b[39;00m \u001b[38;5;28;01mimport\u001b[39;00m predict, unpack_masks\n",
      "\u001b[0;31mModuleNotFoundError\u001b[0m: No module named 'Modules'"
     ]
    }
   ],
   "source": [
    "from Modules.Architectures import CNN_MNV2\n",
    "from Modules.Datasets import BaseDatasetPalm\n",
    "from Modules.Utils import predict, unpack_masks\n",
    "import torch\n",
    "import matplotlib.pyplot as plt\n",
    "from torch.utils.data import DataLoader\n",
    "import pickle \n",
    "import pandas as pd\n",
    "import numpy as np\n",
    "from Modules.Plotting import Prediction_plot, QQ_plot, Confusion_Matrix_Regression"
   ]
  },
  {
   "cell_type": "code",
   "execution_count": 2,
   "metadata": {},
   "outputs": [],
   "source": [
    "MinMax_Scaler_meteo = pickle.load(open('/home/u108-n256/PalmProject/NeuralNetwork_Testing/NN_Inputs/Scaler_Meteorological.pkl', 'rb'))\n",
    "MinMax_Scaler_pheno = pickle.load(open('/home/u108-n256/PalmProject/NeuralNetwork_Testing/NN_Inputs/Scaler_Phenological.pkl', 'rb'))\n",
    "\n",
    "def inverse_scale(X, scale, mini):\n",
    "    X = (X /scale) + mini\n",
    "    return X"
   ]
  },
  {
   "cell_type": "code",
   "execution_count": 3,
   "metadata": {},
   "outputs": [
    {
     "name": "stdout",
     "output_type": "stream",
     "text": [
      "      Predicted  Actual\n",
      "0           0.0   0.000\n",
      "1           0.0   0.125\n",
      "2           0.0   0.000\n",
      "3           0.0   0.000\n",
      "4           0.0   0.000\n",
      "...         ...     ...\n",
      "6799        0.0   0.000\n",
      "6800        0.0   0.000\n",
      "6801        0.0   0.000\n",
      "6802        0.0   0.000\n",
      "6803        0.0   0.000\n",
      "\n",
      "[6804 rows x 2 columns]\n"
     ]
    }
   ],
   "source": [
    "dataset = BaseDatasetPalm('male', train=False)\n",
    "\n",
    "dataloader = DataLoader(dataset, batch_size=1, shuffle=False)\n",
    "\n",
    "model_1 = CNN_MNV2()\n",
    "device = 'cuda' if torch.cuda.is_available() else 'cpu'\n",
    "# Load the model\n",
    "model_1.load_state_dict(torch.load('/home/u108-n256/PalmProject/CrossValidation/OPTIM/Optimized_CNN_best.pt'))\n",
    "\n",
    "Model_1 = predict(model_1, dataloader, device)\n",
    "\n",
    "\n",
    "Model_1_scaled = pd.DataFrame(inverse_scale(Model_1.values, MinMax_Scaler_pheno.scale_[7], MinMax_Scaler_pheno.data_min_[7]), columns=['Predicted','Actual'])\n",
    "\n",
    "Model_1_scaled.to_csv(\"Model_1_scaled.csv\", index=False)\n",
    "\n",
    "\n",
    "\n"
   ]
  },
  {
   "cell_type": "code",
   "execution_count": 4,
   "metadata": {},
   "outputs": [],
   "source": [
    "mask = unpack_masks(['Meteorological_mask.npy'])\n",
    "\n",
    "dataset = BaseDatasetPalm('male', train=False, mask=mask)\n",
    "\n",
    "dataloader = DataLoader(dataset, batch_size=1, shuffle=False)\n",
    "\n",
    "model_2 = CNN_MNV2(k1=1,k2=1,k3=1)\n",
    "\n",
    "model_2.load_state_dict(torch.load('/home/u108-n256/PalmProject/CrossValidation_1/Model_MNV2_male_only_meteo/Fold_1_Model.pt'))\n",
    "\n",
    "Model_2 = predict(model_2, dataloader, device)\n",
    "\n",
    "Model_2_scaled = pd.DataFrame(inverse_scale(Model_2.values, MinMax_Scaler_pheno.scale_[7], MinMax_Scaler_pheno.data_min_[7]), columns=['Predicted','Actual'])\n",
    "\n",
    "Model_2_scaled.to_csv(\"Model_2_scaled.csv\", index=False)"
   ]
  },
  {
   "cell_type": "code",
   "execution_count": 5,
   "metadata": {},
   "outputs": [],
   "source": [
    "dataset = BaseDatasetPalm('female', train=False)\n",
    "\n",
    "dataloader = DataLoader(dataset, batch_size=1, shuffle=False)\n",
    "\n",
    "model_3 = CNN_MNV2()\n",
    "device = 'cuda' if torch.cuda.is_available() else 'cpu'\n",
    "# Load the model\n",
    "model_3.load_state_dict(torch.load('/home/u108-n256/PalmProject/CrossValidation/Model_MNV2_female_All_Data/Fold_1_Model.pt'))\n",
    "\n",
    "Model_3 = predict(model_3, dataloader, device)\n",
    "\n",
    "Model_3_scaled = pd.DataFrame(inverse_scale(Model_3.values, MinMax_Scaler_pheno.scale_[6], MinMax_Scaler_pheno.data_min_[6]), columns=['Predicted','Actual'])\n",
    "\n",
    "Model_3_scaled.to_csv(\"Model_3_scaled.csv\", index=False)"
   ]
  },
  {
   "cell_type": "code",
   "execution_count": 8,
   "metadata": {},
   "outputs": [
    {
     "name": "stdout",
     "output_type": "stream",
     "text": [
      "      Predicted  Actual\n",
      "0      0.000000   0.000\n",
      "1      0.259894   0.125\n",
      "2      0.000000   0.000\n",
      "3      0.000000   0.000\n",
      "4      0.000000   0.000\n",
      "...         ...     ...\n",
      "6799   0.000000   0.000\n",
      "6800   0.000000   0.000\n",
      "6801   0.000000   0.000\n",
      "6802   0.000000   0.000\n",
      "6803   0.000000   0.000\n",
      "\n",
      "[6804 rows x 2 columns]\n"
     ]
    }
   ],
   "source": [
    "mask = unpack_masks(['Phenological_mask.npy'])\n",
    "dataset = BaseDatasetPalm('male', train=False, mask=mask)\n",
    "\n",
    "dataloader = DataLoader(dataset, batch_size=1, shuffle=False)\n",
    "\n",
    "model_4 = CNN_MNV2()\n",
    "device = 'cuda' if torch.cuda.is_available() else 'cpu'\n",
    "# Load the model\n",
    "model_4.load_state_dict(torch.load('/home/u108-n256/PalmProject/CrossValidation/Model_MNV2_male_only Phenological data/Fold_4_Model.pt'))\n",
    "\n",
    "Model_4 = predict(model_4, dataloader, device)\n",
    "print(Model_4)\n",
    "\n",
    "Model_4_scaled = pd.DataFrame(inverse_scale(Model_4.values, MinMax_Scaler_pheno.scale_[7], MinMax_Scaler_pheno.data_min_[7]), columns=['Predicted','Actual'])\n",
    "\n",
    "Model_4_scaled.to_csv(\"Model_4_scaled.csv\", index=False)"
   ]
  }
 ],
 "metadata": {
  "kernelspec": {
   "display_name": "base",
   "language": "python",
   "name": "python3"
  },
  "language_info": {
   "codemirror_mode": {
    "name": "ipython",
    "version": 3
   },
   "file_extension": ".py",
   "mimetype": "text/x-python",
   "name": "python",
   "nbconvert_exporter": "python",
   "pygments_lexer": "ipython3",
   "version": "3.12.2"
  }
 },
 "nbformat": 4,
 "nbformat_minor": 2
}
